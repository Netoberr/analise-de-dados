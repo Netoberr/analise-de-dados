{
  "cells": [
    {
      "cell_type": "markdown",
      "metadata": {
        "id": "8FHHG39aHc-K"
      },
      "source": [
        "<h1 style='text-align:center'>Titanic.</h1>\n",
        "<br>\n",
        "\n",
        "\n",
        "**Titanic** é um dos naufrágios mais infames da história. Em 15 de abril de 1912, durante sua viagem inaugural, o **Titanic** afundou após colidir com um iceberg, matando *1502* de *2224* passageiros e tripulantes. Essa tragédia sensacional chocou a comunidade internacional e levou a melhores regulamentações de segurança para navios.<br><br>\n",
        "\n",
        "**O que precisamos fazer especificamente neste desafio?**\n",
        "\n",
        "Nesse desafio, precisamos concluir a análise de que tipos de pessoas provavelmente sobreviveriam. Em particular, aplicamos as ferramentas de aprendizado de máquina para prever quais passageiros sobreviveram à tragédia?."
      ]
    },
    {
      "cell_type": "markdown",
      "metadata": {
        "id": "uJZdGrf_Hc-O"
      },
      "source": [
        "### Importando os dados"
      ]
    },
    {
      "cell_type": "code",
      "execution_count": null,
      "metadata": {
        "colab": {
          "base_uri": "https://localhost:8080/",
          "height": 206
        },
        "id": "2cJtT-qcHc-P",
        "outputId": "a7ed8136-e202-4317-aa40-a756008491f1"
      },
      "outputs": [
        {
          "output_type": "execute_result",
          "data": {
            "text/plain": [
              "   PassengerId  Survived  Pclass  \\\n",
              "0            1         0       3   \n",
              "1            2         1       1   \n",
              "2            3         1       3   \n",
              "3            4         1       1   \n",
              "4            5         0       3   \n",
              "\n",
              "                                                Name     Sex   Age  SibSp  \\\n",
              "0                            Braund, Mr. Owen Harris    male  22.0      1   \n",
              "1  Cumings, Mrs. John Bradley (Florence Briggs Th...  female  38.0      1   \n",
              "2                             Heikkinen, Miss. Laina  female  26.0      0   \n",
              "3       Futrelle, Mrs. Jacques Heath (Lily May Peel)  female  35.0      1   \n",
              "4                           Allen, Mr. William Henry    male  35.0      0   \n",
              "\n",
              "   Parch            Ticket     Fare Cabin Embarked  \n",
              "0      0         A/5 21171   7.2500   NaN        S  \n",
              "1      0          PC 17599  71.2833   C85        C  \n",
              "2      0  STON/O2. 3101282   7.9250   NaN        S  \n",
              "3      0            113803  53.1000  C123        S  \n",
              "4      0            373450   8.0500   NaN        S  "
            ],
            "text/html": [
              "\n",
              "  <div id=\"df-8b9520c5-9ccc-4e1c-9422-ce5e4a6affbf\">\n",
              "    <div class=\"colab-df-container\">\n",
              "      <div>\n",
              "<style scoped>\n",
              "    .dataframe tbody tr th:only-of-type {\n",
              "        vertical-align: middle;\n",
              "    }\n",
              "\n",
              "    .dataframe tbody tr th {\n",
              "        vertical-align: top;\n",
              "    }\n",
              "\n",
              "    .dataframe thead th {\n",
              "        text-align: right;\n",
              "    }\n",
              "</style>\n",
              "<table border=\"1\" class=\"dataframe\">\n",
              "  <thead>\n",
              "    <tr style=\"text-align: right;\">\n",
              "      <th></th>\n",
              "      <th>PassengerId</th>\n",
              "      <th>Survived</th>\n",
              "      <th>Pclass</th>\n",
              "      <th>Name</th>\n",
              "      <th>Sex</th>\n",
              "      <th>Age</th>\n",
              "      <th>SibSp</th>\n",
              "      <th>Parch</th>\n",
              "      <th>Ticket</th>\n",
              "      <th>Fare</th>\n",
              "      <th>Cabin</th>\n",
              "      <th>Embarked</th>\n",
              "    </tr>\n",
              "  </thead>\n",
              "  <tbody>\n",
              "    <tr>\n",
              "      <th>0</th>\n",
              "      <td>1</td>\n",
              "      <td>0</td>\n",
              "      <td>3</td>\n",
              "      <td>Braund, Mr. Owen Harris</td>\n",
              "      <td>male</td>\n",
              "      <td>22.0</td>\n",
              "      <td>1</td>\n",
              "      <td>0</td>\n",
              "      <td>A/5 21171</td>\n",
              "      <td>7.2500</td>\n",
              "      <td>NaN</td>\n",
              "      <td>S</td>\n",
              "    </tr>\n",
              "    <tr>\n",
              "      <th>1</th>\n",
              "      <td>2</td>\n",
              "      <td>1</td>\n",
              "      <td>1</td>\n",
              "      <td>Cumings, Mrs. John Bradley (Florence Briggs Th...</td>\n",
              "      <td>female</td>\n",
              "      <td>38.0</td>\n",
              "      <td>1</td>\n",
              "      <td>0</td>\n",
              "      <td>PC 17599</td>\n",
              "      <td>71.2833</td>\n",
              "      <td>C85</td>\n",
              "      <td>C</td>\n",
              "    </tr>\n",
              "    <tr>\n",
              "      <th>2</th>\n",
              "      <td>3</td>\n",
              "      <td>1</td>\n",
              "      <td>3</td>\n",
              "      <td>Heikkinen, Miss. Laina</td>\n",
              "      <td>female</td>\n",
              "      <td>26.0</td>\n",
              "      <td>0</td>\n",
              "      <td>0</td>\n",
              "      <td>STON/O2. 3101282</td>\n",
              "      <td>7.9250</td>\n",
              "      <td>NaN</td>\n",
              "      <td>S</td>\n",
              "    </tr>\n",
              "    <tr>\n",
              "      <th>3</th>\n",
              "      <td>4</td>\n",
              "      <td>1</td>\n",
              "      <td>1</td>\n",
              "      <td>Futrelle, Mrs. Jacques Heath (Lily May Peel)</td>\n",
              "      <td>female</td>\n",
              "      <td>35.0</td>\n",
              "      <td>1</td>\n",
              "      <td>0</td>\n",
              "      <td>113803</td>\n",
              "      <td>53.1000</td>\n",
              "      <td>C123</td>\n",
              "      <td>S</td>\n",
              "    </tr>\n",
              "    <tr>\n",
              "      <th>4</th>\n",
              "      <td>5</td>\n",
              "      <td>0</td>\n",
              "      <td>3</td>\n",
              "      <td>Allen, Mr. William Henry</td>\n",
              "      <td>male</td>\n",
              "      <td>35.0</td>\n",
              "      <td>0</td>\n",
              "      <td>0</td>\n",
              "      <td>373450</td>\n",
              "      <td>8.0500</td>\n",
              "      <td>NaN</td>\n",
              "      <td>S</td>\n",
              "    </tr>\n",
              "  </tbody>\n",
              "</table>\n",
              "</div>\n",
              "      <button class=\"colab-df-convert\" onclick=\"convertToInteractive('df-8b9520c5-9ccc-4e1c-9422-ce5e4a6affbf')\"\n",
              "              title=\"Convert this dataframe to an interactive table.\"\n",
              "              style=\"display:none;\">\n",
              "        \n",
              "  <svg xmlns=\"http://www.w3.org/2000/svg\" height=\"24px\"viewBox=\"0 0 24 24\"\n",
              "       width=\"24px\">\n",
              "    <path d=\"M0 0h24v24H0V0z\" fill=\"none\"/>\n",
              "    <path d=\"M18.56 5.44l.94 2.06.94-2.06 2.06-.94-2.06-.94-.94-2.06-.94 2.06-2.06.94zm-11 1L8.5 8.5l.94-2.06 2.06-.94-2.06-.94L8.5 2.5l-.94 2.06-2.06.94zm10 10l.94 2.06.94-2.06 2.06-.94-2.06-.94-.94-2.06-.94 2.06-2.06.94z\"/><path d=\"M17.41 7.96l-1.37-1.37c-.4-.4-.92-.59-1.43-.59-.52 0-1.04.2-1.43.59L10.3 9.45l-7.72 7.72c-.78.78-.78 2.05 0 2.83L4 21.41c.39.39.9.59 1.41.59.51 0 1.02-.2 1.41-.59l7.78-7.78 2.81-2.81c.8-.78.8-2.07 0-2.86zM5.41 20L4 18.59l7.72-7.72 1.47 1.35L5.41 20z\"/>\n",
              "  </svg>\n",
              "      </button>\n",
              "      \n",
              "  <style>\n",
              "    .colab-df-container {\n",
              "      display:flex;\n",
              "      flex-wrap:wrap;\n",
              "      gap: 12px;\n",
              "    }\n",
              "\n",
              "    .colab-df-convert {\n",
              "      background-color: #E8F0FE;\n",
              "      border: none;\n",
              "      border-radius: 50%;\n",
              "      cursor: pointer;\n",
              "      display: none;\n",
              "      fill: #1967D2;\n",
              "      height: 32px;\n",
              "      padding: 0 0 0 0;\n",
              "      width: 32px;\n",
              "    }\n",
              "\n",
              "    .colab-df-convert:hover {\n",
              "      background-color: #E2EBFA;\n",
              "      box-shadow: 0px 1px 2px rgba(60, 64, 67, 0.3), 0px 1px 3px 1px rgba(60, 64, 67, 0.15);\n",
              "      fill: #174EA6;\n",
              "    }\n",
              "\n",
              "    [theme=dark] .colab-df-convert {\n",
              "      background-color: #3B4455;\n",
              "      fill: #D2E3FC;\n",
              "    }\n",
              "\n",
              "    [theme=dark] .colab-df-convert:hover {\n",
              "      background-color: #434B5C;\n",
              "      box-shadow: 0px 1px 3px 1px rgba(0, 0, 0, 0.15);\n",
              "      filter: drop-shadow(0px 1px 2px rgba(0, 0, 0, 0.3));\n",
              "      fill: #FFFFFF;\n",
              "    }\n",
              "  </style>\n",
              "\n",
              "      <script>\n",
              "        const buttonEl =\n",
              "          document.querySelector('#df-8b9520c5-9ccc-4e1c-9422-ce5e4a6affbf button.colab-df-convert');\n",
              "        buttonEl.style.display =\n",
              "          google.colab.kernel.accessAllowed ? 'block' : 'none';\n",
              "\n",
              "        async function convertToInteractive(key) {\n",
              "          const element = document.querySelector('#df-8b9520c5-9ccc-4e1c-9422-ce5e4a6affbf');\n",
              "          const dataTable =\n",
              "            await google.colab.kernel.invokeFunction('convertToInteractive',\n",
              "                                                     [key], {});\n",
              "          if (!dataTable) return;\n",
              "\n",
              "          const docLinkHtml = 'Like what you see? Visit the ' +\n",
              "            '<a target=\"_blank\" href=https://colab.research.google.com/notebooks/data_table.ipynb>data table notebook</a>'\n",
              "            + ' to learn more about interactive tables.';\n",
              "          element.innerHTML = '';\n",
              "          dataTable['output_type'] = 'display_data';\n",
              "          await google.colab.output.renderOutput(dataTable, element);\n",
              "          const docLink = document.createElement('div');\n",
              "          docLink.innerHTML = docLinkHtml;\n",
              "          element.appendChild(docLink);\n",
              "        }\n",
              "      </script>\n",
              "    </div>\n",
              "  </div>\n",
              "  "
            ]
          },
          "metadata": {},
          "execution_count": 1
        }
      ],
      "source": [
        "import pandas as pd\n",
        "import numpy as np\n",
        "from sklearn.model_selection import train_test_split,GridSearchCV\n",
        "from sklearn.tree import DecisionTreeRegressor,DecisionTreeClassifier\n",
        "import matplotlib.pyplot as plt\n",
        "import seaborn as sns\n",
        "%matplotlib inline\n",
        "#importa os dados de treino e teste\n",
        "train=pd.read_csv('train.csv')\n",
        "test=pd.read_csv('test.csv')\n",
        "name=train.Name\n",
        "train.head()"
      ]
    },
    {
      "cell_type": "markdown",
      "metadata": {
        "id": "IuzhOdsLHc-R"
      },
      "source": [
        "<h3>What does this data set mean.</h3>\n",
        "____"
      ]
    },
    {
      "cell_type": "markdown",
      "metadata": {
        "id": "3r4WrV_jHc-R"
      },
      "source": [
        "Os dados foram divididos em dois grupos:\n",
        "- conjunto de treinamento (train.csv)\n",
        "- conjunto de teste (teste.csv)\n",
        "<br>\n",
        "\n",
        "O conjunto de treinamento inclui o status de sobrevivência dos passageiros (também conhecido como a verdade da tragédia titânica) que, juntamente com outros recursos, como gênero, classe, tarifa e pclass, é usado para criar o modelo de aprendizado de máquina.\n",
        "<br><br>\n",
        "O conjunto de teste deve ser usado para ver o desempenho do meu modelo em dados não vistos. O conjunto de teste não fornece o status de sobrevivência dos passageiros. Vamos usar nosso modelo para prever o status de sobrevivência dos passageiros.\n",
        "<br><br>\n",
        "\n",
        "Vamos descrever qual é o significado dos recursos dados os conjuntos de dados de treinamento e teste.\n",
        "<h4>Chave de definição de variável.</h4>\n",
        "\n",
        "- Sobrevivência\n",
        "\n",
        " - 0 = Não\n",
        " - 1 = Sim\n",
        "\n",
        "- pclass (ala de ingresso)\n",
        "\n",
        " - 1 = 1st\n",
        " - 2 = 2nd\n",
        " - 3 = 3rd\n",
        " \n",
        "- sex\n",
        "\n",
        "- age \n",
        "\n",
        "- sibsp (nº de irmãos/cônjuges a bordo do Titanic)\n",
        "<br>\n",
        "- parch (nº de pais/filhos a bordo do Titanic)\n",
        "<br>\n",
        "- tickets\n",
        "<br>\n",
        "- fare (tarifa)\n",
        "<br>\n",
        "- cabin\n",
        "- embarked Porto de Embarque.\n",
        " - C = Cherburgo,\n",
        " - Q = Queenstown,\n",
        " - S = Southampton\n",
        "- pclass: uma proxy para status socioeconômico (SES)\n",
        "<br>\n",
        "<h4>É importante lembrar disso e será útil para análises posteriores.</h4>\n",
        "\n",
        " - 1st = Upper\n",
        " - 2nd = Middle\n",
        " - 3rd = Lower\n",
        "\n"
      ]
    },
    {
      "cell_type": "markdown",
      "metadata": {
        "id": "CFfhQyufHc-S"
      },
      "source": [
        "\n",
        "\n",
        "## Parte 1. Limpando os dados."
      ]
    },
    {
      "cell_type": "code",
      "execution_count": null,
      "metadata": {
        "colab": {
          "base_uri": "https://localhost:8080/",
          "height": 206
        },
        "id": "Fde-GYFjHc-T",
        "outputId": "414298f9-965a-4f13-8ce9-6204d3b75415"
      },
      "outputs": [
        {
          "output_type": "execute_result",
          "data": {
            "text/plain": [
              "   PassengerId  Survived  Pclass  \\\n",
              "0            1         0       3   \n",
              "1            2         1       1   \n",
              "2            3         1       3   \n",
              "3            4         1       1   \n",
              "4            5         0       3   \n",
              "\n",
              "                                                Name     Sex   Age  SibSp  \\\n",
              "0                            Braund, Mr. Owen Harris    male  22.0      1   \n",
              "1  Cumings, Mrs. John Bradley (Florence Briggs Th...  female  38.0      1   \n",
              "2                             Heikkinen, Miss. Laina  female  26.0      0   \n",
              "3       Futrelle, Mrs. Jacques Heath (Lily May Peel)  female  35.0      1   \n",
              "4                           Allen, Mr. William Henry    male  35.0      0   \n",
              "\n",
              "   Parch            Ticket     Fare Cabin Embarked  \n",
              "0      0         A/5 21171   7.2500   NaN        S  \n",
              "1      0          PC 17599  71.2833   C85        C  \n",
              "2      0  STON/O2. 3101282   7.9250   NaN        S  \n",
              "3      0            113803  53.1000  C123        S  \n",
              "4      0            373450   8.0500   NaN        S  "
            ],
            "text/html": [
              "\n",
              "  <div id=\"df-73a274d6-90fa-4d28-be62-7b44cd5284da\">\n",
              "    <div class=\"colab-df-container\">\n",
              "      <div>\n",
              "<style scoped>\n",
              "    .dataframe tbody tr th:only-of-type {\n",
              "        vertical-align: middle;\n",
              "    }\n",
              "\n",
              "    .dataframe tbody tr th {\n",
              "        vertical-align: top;\n",
              "    }\n",
              "\n",
              "    .dataframe thead th {\n",
              "        text-align: right;\n",
              "    }\n",
              "</style>\n",
              "<table border=\"1\" class=\"dataframe\">\n",
              "  <thead>\n",
              "    <tr style=\"text-align: right;\">\n",
              "      <th></th>\n",
              "      <th>PassengerId</th>\n",
              "      <th>Survived</th>\n",
              "      <th>Pclass</th>\n",
              "      <th>Name</th>\n",
              "      <th>Sex</th>\n",
              "      <th>Age</th>\n",
              "      <th>SibSp</th>\n",
              "      <th>Parch</th>\n",
              "      <th>Ticket</th>\n",
              "      <th>Fare</th>\n",
              "      <th>Cabin</th>\n",
              "      <th>Embarked</th>\n",
              "    </tr>\n",
              "  </thead>\n",
              "  <tbody>\n",
              "    <tr>\n",
              "      <th>0</th>\n",
              "      <td>1</td>\n",
              "      <td>0</td>\n",
              "      <td>3</td>\n",
              "      <td>Braund, Mr. Owen Harris</td>\n",
              "      <td>male</td>\n",
              "      <td>22.0</td>\n",
              "      <td>1</td>\n",
              "      <td>0</td>\n",
              "      <td>A/5 21171</td>\n",
              "      <td>7.2500</td>\n",
              "      <td>NaN</td>\n",
              "      <td>S</td>\n",
              "    </tr>\n",
              "    <tr>\n",
              "      <th>1</th>\n",
              "      <td>2</td>\n",
              "      <td>1</td>\n",
              "      <td>1</td>\n",
              "      <td>Cumings, Mrs. John Bradley (Florence Briggs Th...</td>\n",
              "      <td>female</td>\n",
              "      <td>38.0</td>\n",
              "      <td>1</td>\n",
              "      <td>0</td>\n",
              "      <td>PC 17599</td>\n",
              "      <td>71.2833</td>\n",
              "      <td>C85</td>\n",
              "      <td>C</td>\n",
              "    </tr>\n",
              "    <tr>\n",
              "      <th>2</th>\n",
              "      <td>3</td>\n",
              "      <td>1</td>\n",
              "      <td>3</td>\n",
              "      <td>Heikkinen, Miss. Laina</td>\n",
              "      <td>female</td>\n",
              "      <td>26.0</td>\n",
              "      <td>0</td>\n",
              "      <td>0</td>\n",
              "      <td>STON/O2. 3101282</td>\n",
              "      <td>7.9250</td>\n",
              "      <td>NaN</td>\n",
              "      <td>S</td>\n",
              "    </tr>\n",
              "    <tr>\n",
              "      <th>3</th>\n",
              "      <td>4</td>\n",
              "      <td>1</td>\n",
              "      <td>1</td>\n",
              "      <td>Futrelle, Mrs. Jacques Heath (Lily May Peel)</td>\n",
              "      <td>female</td>\n",
              "      <td>35.0</td>\n",
              "      <td>1</td>\n",
              "      <td>0</td>\n",
              "      <td>113803</td>\n",
              "      <td>53.1000</td>\n",
              "      <td>C123</td>\n",
              "      <td>S</td>\n",
              "    </tr>\n",
              "    <tr>\n",
              "      <th>4</th>\n",
              "      <td>5</td>\n",
              "      <td>0</td>\n",
              "      <td>3</td>\n",
              "      <td>Allen, Mr. William Henry</td>\n",
              "      <td>male</td>\n",
              "      <td>35.0</td>\n",
              "      <td>0</td>\n",
              "      <td>0</td>\n",
              "      <td>373450</td>\n",
              "      <td>8.0500</td>\n",
              "      <td>NaN</td>\n",
              "      <td>S</td>\n",
              "    </tr>\n",
              "  </tbody>\n",
              "</table>\n",
              "</div>\n",
              "      <button class=\"colab-df-convert\" onclick=\"convertToInteractive('df-73a274d6-90fa-4d28-be62-7b44cd5284da')\"\n",
              "              title=\"Convert this dataframe to an interactive table.\"\n",
              "              style=\"display:none;\">\n",
              "        \n",
              "  <svg xmlns=\"http://www.w3.org/2000/svg\" height=\"24px\"viewBox=\"0 0 24 24\"\n",
              "       width=\"24px\">\n",
              "    <path d=\"M0 0h24v24H0V0z\" fill=\"none\"/>\n",
              "    <path d=\"M18.56 5.44l.94 2.06.94-2.06 2.06-.94-2.06-.94-.94-2.06-.94 2.06-2.06.94zm-11 1L8.5 8.5l.94-2.06 2.06-.94-2.06-.94L8.5 2.5l-.94 2.06-2.06.94zm10 10l.94 2.06.94-2.06 2.06-.94-2.06-.94-.94-2.06-.94 2.06-2.06.94z\"/><path d=\"M17.41 7.96l-1.37-1.37c-.4-.4-.92-.59-1.43-.59-.52 0-1.04.2-1.43.59L10.3 9.45l-7.72 7.72c-.78.78-.78 2.05 0 2.83L4 21.41c.39.39.9.59 1.41.59.51 0 1.02-.2 1.41-.59l7.78-7.78 2.81-2.81c.8-.78.8-2.07 0-2.86zM5.41 20L4 18.59l7.72-7.72 1.47 1.35L5.41 20z\"/>\n",
              "  </svg>\n",
              "      </button>\n",
              "      \n",
              "  <style>\n",
              "    .colab-df-container {\n",
              "      display:flex;\n",
              "      flex-wrap:wrap;\n",
              "      gap: 12px;\n",
              "    }\n",
              "\n",
              "    .colab-df-convert {\n",
              "      background-color: #E8F0FE;\n",
              "      border: none;\n",
              "      border-radius: 50%;\n",
              "      cursor: pointer;\n",
              "      display: none;\n",
              "      fill: #1967D2;\n",
              "      height: 32px;\n",
              "      padding: 0 0 0 0;\n",
              "      width: 32px;\n",
              "    }\n",
              "\n",
              "    .colab-df-convert:hover {\n",
              "      background-color: #E2EBFA;\n",
              "      box-shadow: 0px 1px 2px rgba(60, 64, 67, 0.3), 0px 1px 3px 1px rgba(60, 64, 67, 0.15);\n",
              "      fill: #174EA6;\n",
              "    }\n",
              "\n",
              "    [theme=dark] .colab-df-convert {\n",
              "      background-color: #3B4455;\n",
              "      fill: #D2E3FC;\n",
              "    }\n",
              "\n",
              "    [theme=dark] .colab-df-convert:hover {\n",
              "      background-color: #434B5C;\n",
              "      box-shadow: 0px 1px 3px 1px rgba(0, 0, 0, 0.15);\n",
              "      filter: drop-shadow(0px 1px 2px rgba(0, 0, 0, 0.3));\n",
              "      fill: #FFFFFF;\n",
              "    }\n",
              "  </style>\n",
              "\n",
              "      <script>\n",
              "        const buttonEl =\n",
              "          document.querySelector('#df-73a274d6-90fa-4d28-be62-7b44cd5284da button.colab-df-convert');\n",
              "        buttonEl.style.display =\n",
              "          google.colab.kernel.accessAllowed ? 'block' : 'none';\n",
              "\n",
              "        async function convertToInteractive(key) {\n",
              "          const element = document.querySelector('#df-73a274d6-90fa-4d28-be62-7b44cd5284da');\n",
              "          const dataTable =\n",
              "            await google.colab.kernel.invokeFunction('convertToInteractive',\n",
              "                                                     [key], {});\n",
              "          if (!dataTable) return;\n",
              "\n",
              "          const docLinkHtml = 'Like what you see? Visit the ' +\n",
              "            '<a target=\"_blank\" href=https://colab.research.google.com/notebooks/data_table.ipynb>data table notebook</a>'\n",
              "            + ' to learn more about interactive tables.';\n",
              "          element.innerHTML = '';\n",
              "          dataTable['output_type'] = 'display_data';\n",
              "          await google.colab.output.renderOutput(dataTable, element);\n",
              "          const docLink = document.createElement('div');\n",
              "          docLink.innerHTML = docLinkHtml;\n",
              "          element.appendChild(docLink);\n",
              "        }\n",
              "      </script>\n",
              "    </div>\n",
              "  </div>\n",
              "  "
            ]
          },
          "metadata": {},
          "execution_count": 2
        }
      ],
      "source": [
        "train.head(5)"
      ]
    },
    {
      "cell_type": "markdown",
      "metadata": {
        "id": "peo0654FHc-U"
      },
      "source": [
        "Parece que esse conjunto de dados está bastante organizado, no entanto, antes de usar esse conjunto de dados para análise e visualização, precisamos lidar com ..\n",
        "- Diferentes variáveis\n",
        "- Valores nulos"
      ]
    },
    {
      "cell_type": "markdown",
      "metadata": {
        "id": "txdgvQhHHc-V"
      },
      "source": [
        "## Diferentes variáveis ​​presentes nos conjuntos de dados.\n",
        "- **Existem quatro tipos de variáveis**\n",
        "- **Recursos numéricos**: Idade, Tarifa, SibSp e Parch\n",
        "- **Recursos Categóricos**: Sexo, Embarcou, Sobreviveu e Pclass\n",
        "- **Recursos alfanuméricos**: Bilhete e Cabine (Contém alfabetos e o valor numérico)\n",
        "- **Recursos de texto**: Nome\n",
        "\n",
        "**Realmente precisamos ajustar esses recursos para obter a forma desejada de dados de entrada**"
      ]
    },
    {
      "cell_type": "code",
      "execution_count": null,
      "metadata": {
        "colab": {
          "base_uri": "https://localhost:8080/"
        },
        "id": "03bg09KvHc-V",
        "outputId": "1fa01b4b-1a2a-4101-dc40-f8d934c0b209"
      },
      "outputs": [
        {
          "output_type": "execute_result",
          "data": {
            "text/plain": [
              "(891, 12)"
            ]
          },
          "metadata": {},
          "execution_count": 3
        }
      ],
      "source": [
        "train.shape# Means 891 rows and 12 columns."
      ]
    },
    {
      "cell_type": "code",
      "execution_count": null,
      "metadata": {
        "colab": {
          "base_uri": "https://localhost:8080/"
        },
        "id": "a-r21vIFHc-W",
        "outputId": "e40a5084-3962-4937-c9e6-5d2b9f8a9216"
      },
      "outputs": [
        {
          "output_type": "execute_result",
          "data": {
            "text/plain": [
              "PassengerId      0\n",
              "Survived         0\n",
              "Pclass           0\n",
              "Name             0\n",
              "Sex              0\n",
              "Age            177\n",
              "SibSp            0\n",
              "Parch            0\n",
              "Ticket           0\n",
              "Fare             0\n",
              "Cabin          687\n",
              "Embarked         2\n",
              "dtype: int64"
            ]
          },
          "metadata": {},
          "execution_count": 4
        }
      ],
      "source": [
        "train.isnull().sum()"
      ]
    },
    {
      "cell_type": "markdown",
      "metadata": {
        "id": "Mx48WkAjHc-X"
      },
      "source": [
        "Vemos que Age e Cabin têm muitos valores ausentes. Então, primeiro precisamos lidar com todos esses valores NaN.\n",
        "- Como na coluna Cabine, cerca de 1\\3 dos valores estão faltando. Assim, nos livramos desta coluna.\n",
        "<br>\n",
        "\n",
        "## Por que o tratamento de valores ausentes é necessário?\n",
        "A falta de dados no conjunto de dados de treinamento pode reduzir o poder/ajuste de um modelo ou pode levar a um modelo tendencioso porque não analisamos corretamente o comportamento e o relacionamento com outras variáveis. Pode levar a uma previsão ou classificação errada.\n",
        "- Aqui os métodos para lidar com valores ausentes.\n",
        "\n",
        "### Imputação KNN.\n",
        "------\n",
        "Nesse método de imputação, os valores ausentes de um atributo são imputados usando o número determinado de atributos que são mais semelhantes ao atributo cujos valores estão ausentes.\n",
        "\n",
        "Para mais...\n",
        "<br>\n",
        "**Método 1**\n",
        "- [Imputação KNN](https://www.analyticsvidhya.com/blog/2016/01/guide-data-exploration/)\n",
        "- [Blog](https://towardsdatascience.com/the-use-of-knn-for-missing-values-cf33d935c637)\n",
        "\n",
        "**Método 2**\n",
        "- [sklearn.preprocessing.Imputer](http://scikit-learn.org/stable/modules/generated/sklearn.preprocessing.Imputer.html)"
      ]
    },
    {
      "cell_type": "markdown",
      "metadata": {
        "id": "ZrRQOjOIHc-X"
      },
      "source": [
        "**Usamos o Método 2, ou seja (sklearn.preprocessing.Imputer)**\n",
        "\n",
        "Só porque é fácil de usar...."
      ]
    },
    {
      "cell_type": "code",
      "execution_count": null,
      "metadata": {
        "collapsed": true,
        "id": "lPHUgq3PHc-X"
      },
      "outputs": [],
      "source": [
        "import numpy as np\n",
        "import pandas as pd\n",
        "from sklearn.impute import SimpleImputer"
      ]
    },
    {
      "cell_type": "code",
      "execution_count": null,
      "metadata": {
        "colab": {
          "base_uri": "https://localhost:8080/",
          "height": 217
        },
        "id": "9pLEQWUiHc-Y",
        "outputId": "6c1053f5-611d-4f73-acdc-3da368d5a26c"
      },
      "outputs": [
        {
          "output_type": "error",
          "ename": "TypeError",
          "evalue": "ignored",
          "traceback": [
            "\u001b[0;31m---------------------------------------------------------------------------\u001b[0m",
            "\u001b[0;31mTypeError\u001b[0m                                 Traceback (most recent call last)",
            "\u001b[0;32m<ipython-input-24-9fc3eed5a10c>\u001b[0m in \u001b[0;36m<module>\u001b[0;34m()\u001b[0m\n\u001b[0;32m----> 1\u001b[0;31m \u001b[0mImp\u001b[0m\u001b[0;34m=\u001b[0m\u001b[0mSimpleImputer\u001b[0m\u001b[0;34m(\u001b[0m\u001b[0mmissing_values\u001b[0m\u001b[0;34m=\u001b[0m\u001b[0mnp\u001b[0m\u001b[0;34m.\u001b[0m\u001b[0mnan\u001b[0m\u001b[0;34m,\u001b[0m\u001b[0mstrategy\u001b[0m\u001b[0;34m=\u001b[0m\u001b[0;34m'median'\u001b[0m\u001b[0;34m,\u001b[0m\u001b[0maxis\u001b[0m\u001b[0;34m=\u001b[0m\u001b[0;36m1\u001b[0m\u001b[0;34m)\u001b[0m\u001b[0;34m\u001b[0m\u001b[0;34m\u001b[0m\u001b[0m\n\u001b[0m\u001b[1;32m      2\u001b[0m \u001b[0mnew\u001b[0m\u001b[0;34m=\u001b[0m\u001b[0mImp\u001b[0m\u001b[0;34m.\u001b[0m\u001b[0mfit_transform\u001b[0m\u001b[0;34m(\u001b[0m\u001b[0mtrain\u001b[0m\u001b[0;34m.\u001b[0m\u001b[0mAge\u001b[0m\u001b[0;34m.\u001b[0m\u001b[0mvalues\u001b[0m\u001b[0;34m.\u001b[0m\u001b[0mreshape\u001b[0m\u001b[0;34m(\u001b[0m\u001b[0;36m1\u001b[0m\u001b[0;34m,\u001b[0m\u001b[0;34m-\u001b[0m\u001b[0;36m1\u001b[0m\u001b[0;34m)\u001b[0m\u001b[0;34m)\u001b[0m\u001b[0;34m\u001b[0m\u001b[0;34m\u001b[0m\u001b[0m\n\u001b[1;32m      3\u001b[0m \u001b[0mtrain\u001b[0m\u001b[0;34m[\u001b[0m\u001b[0;34m'Age2'\u001b[0m\u001b[0;34m]\u001b[0m\u001b[0;34m=\u001b[0m\u001b[0mnew\u001b[0m\u001b[0;34m.\u001b[0m\u001b[0mT\u001b[0m\u001b[0;34m\u001b[0m\u001b[0;34m\u001b[0m\u001b[0m\n\u001b[1;32m      4\u001b[0m \u001b[0;31m#Lets drop the old one age Column.\u001b[0m\u001b[0;34m\u001b[0m\u001b[0;34m\u001b[0m\u001b[0;34m\u001b[0m\u001b[0m\n",
            "\u001b[0;31mTypeError\u001b[0m: __init__() got an unexpected keyword argument 'axis'"
          ]
        }
      ],
      "source": [
        "Imp=SimpleImputer(missing_values=np.nan,strategy='median',axis=1)\n",
        "new=Imp.fit_transform(train.Age.values.reshape(1,-1))\n",
        "train['Age2']=new.T\n",
        "#Lets drop the old one age Column."
      ]
    },
    {
      "cell_type": "code",
      "source": [
        "train.drop('Age',axis=1,inplace=True)"
      ],
      "metadata": {
        "id": "SpMtpRcEOo37"
      },
      "execution_count": null,
      "outputs": []
    },
    {
      "cell_type": "code",
      "source": [
        "train.isnull().sum()"
      ],
      "metadata": {
        "id": "_jhjILF4OpQK"
      },
      "execution_count": null,
      "outputs": []
    },
    {
      "cell_type": "code",
      "execution_count": null,
      "metadata": {
        "collapsed": true,
        "id": "KbDLzzVkHc-Z"
      },
      "outputs": [],
      "source": [
        "train.set_index('PassengerId',inplace=True)\n",
        "## get dummy variables for Column sex and embarked since they are categorical value.\n",
        "train = pd.get_dummies(train, columns=[\"Sex\"], drop_first=True)\n",
        "train = pd.get_dummies(train, columns=[\"Embarked\"],drop_first=True)\n",
        "\n",
        "\n",
        "#Mapping the data.\n",
        "train['Fare'] = train['Fare'].astype(int)\n",
        "train.loc[train.Fare<=7.91,'Fare']=0\n",
        "train.loc[(train.Fare>7.91) &(train.Fare<=14.454),'Fare']=1\n",
        "train.loc[(train.Fare>14.454)&(train.Fare<=31),'Fare']=2\n",
        "train.loc[(train.Fare>31),'Fare']=3\n",
        "\n",
        "train['Age2']=train['Age2'].astype(int)\n",
        "train.loc[ train['Age2'] <= 16, 'Age2']= 0\n",
        "train.loc[(train['Age2'] > 16) & (train['Age2'] <= 32), 'Age2'] = 1\n",
        "train.loc[(train['Age2'] > 32) & (train['Age2'] <= 48), 'Age2'] = 2\n",
        "train.loc[(train['Age2'] > 48) & (train['Age2'] <= 64), 'Age2'] = 3\n",
        "train.loc[train['Age2'] > 64, 'Age2'] = 4"
      ]
    },
    {
      "cell_type": "code",
      "execution_count": null,
      "metadata": {
        "id": "W-G1dXnBHc-Z"
      },
      "outputs": [],
      "source": [
        "# In our data the Ticket and Cabin,Name are the base less,leds to the false prediction so Drop both of them.\n",
        "train.drop(['Ticket','Cabin','Name'],axis=1,inplace=True)\n",
        "train.head()\n",
        "print(type(train.Age2))"
      ]
    },
    {
      "cell_type": "markdown",
      "metadata": {
        "id": "l8WXsnLCHc-Z"
      },
      "source": [
        "h2 Parte 2.Análise de dados exploratórios /h2 .\n",
        "\n",
        "**Análise exploratória de dados (EDA)** é uma abordagem para analisar conjuntos de dados para resumir suas principais características, geralmente com métodos visuais.\n"
      ]
    },
    {
      "cell_type": "code",
      "execution_count": null,
      "metadata": {
        "id": "RUhMks8YHc-a"
      },
      "outputs": [],
      "source": [
        "train.shape\n",
        "# 891 rows and 9 columns."
      ]
    },
    {
      "cell_type": "code",
      "execution_count": null,
      "metadata": {
        "id": "jBZcb94SHc-a"
      },
      "outputs": [],
      "source": [
        "train.Survived.value_counts()/len(train)*100\n",
        "#This signifies almost 61% people in the ship died and 38% survived."
      ]
    },
    {
      "cell_type": "code",
      "execution_count": null,
      "metadata": {
        "id": "nQ1hcWdzHc-a"
      },
      "outputs": [],
      "source": [
        "train.describe()"
      ]
    },
    {
      "cell_type": "code",
      "execution_count": null,
      "metadata": {
        "id": "QRbdmYnBHc-b"
      },
      "outputs": [],
      "source": [
        "train.groupby('Survived').mean()"
      ]
    },
    {
      "cell_type": "code",
      "execution_count": null,
      "metadata": {
        "id": "gALNmHe_Hc-b"
      },
      "outputs": [],
      "source": [
        "train.groupby('Sex_male').mean()"
      ]
    },
    {
      "cell_type": "markdown",
      "metadata": {
        "id": "6eYMY9E5Hc-b"
      },
      "source": [
        "Há alguns pontos que devem ser observados na visão geral estatística. Eles são..\n",
        "- Sobre a taxa de sobrevivência, apenas 38% dos passageiros sobreviveram durante aquela tragédia.\n",
        "- Sobre a taxa de sobrevivência por gênero, 74% dos passageiros do sexo feminino sobreviveram, enquanto apenas 19% dos passageiros do sexo masculino sobreviveram."
      ]
    },
    {
      "cell_type": "markdown",
      "metadata": {
        "collapsed": true,
        "id": "KBZEBsfnHc-c"
      },
      "source": [
        "**Matriz de correlação e Heatmap**"
      ]
    },
    {
      "cell_type": "code",
      "execution_count": null,
      "metadata": {
        "id": "alyp8GhjHc-c"
      },
      "outputs": [],
      "source": [
        "train.corr()"
      ]
    },
    {
      "cell_type": "code",
      "execution_count": null,
      "metadata": {
        "id": "h6gTY_p2Hc-c"
      },
      "outputs": [],
      "source": [
        "plt.subplots(figsize = (15,8))\n",
        "sns.heatmap(train.corr(), annot=True,cmap=\"PiYG\")\n",
        "plt.title(\"Correlations Among Features\", fontsize = 20);"
      ]
    },
    {
      "cell_type": "markdown",
      "metadata": {
        "id": "qalma-sOHc-c"
      },
      "source": [
        "**Recursos de correlação positiva:**\n",
        "- Tarifa e Sobrevivência: 0,26.\n",
        "\n",
        "Existe uma correlação positiva entre a tarifa e a classificação de sobrevivência. Isso pode ser explicado dizendo que, o passageiro que pagou mais dinheiro pela passagem teve mais chances de sobreviver."
      ]
    },
    {
      "cell_type": "markdown",
      "metadata": {
        "id": "AfaBVWMbHc-c"
      },
      "source": [
        "**Recursos de correlação negativa:**\n",
        "- Tarifa e Pclass: -0,55\n",
        "- Essa relação pode ser explicada dizendo que o passageiro de primeira classe(1) pagou mais caro que o passageiro de segunda classe(2), da mesma forma que o passageiro de segunda classe pagou mais que o passageiro de terceira classe(3).\n",
        "- Gênero e Sobrevivência: -0,54\n",
        "- Basicamente é a informação se o passageiro era homem ou mulher.\n",
        "- Pclasse e Sobreviveu: -0,34"
      ]
    },
    {
      "cell_type": "markdown",
      "metadata": {
        "id": "zPXyw90qHc-d"
      },
      "source": [
        "**Gênero e Sobrevivência**"
      ]
    },
    {
      "cell_type": "code",
      "execution_count": null,
      "metadata": {
        "id": "PSZzCCp1Hc-d"
      },
      "outputs": [],
      "source": [
        "plt.subplots(figsize = (15,8))\n",
        "sns.barplot(x = \"Sex_male\", y = \"Survived\", data=train, edgecolor=(0,0,0), linewidth=2)\n",
        "plt.title(\"Survived/Non-Survived Passenger Gender Distribution\", fontsize = 25)\n",
        "labels = ['Female', 'Male']\n",
        "plt.ylabel(\"% of passenger survived\", fontsize = 15)\n",
        "plt.xlabel(\"Gender\",fontsize = 15)\n",
        "plt.xticks(sorted(train.Sex_male.unique()), labels)\n",
        "\n",
        "# 1 is for male and 0 is for female."
      ]
    },
    {
      "cell_type": "markdown",
      "metadata": {
        "id": "WqdIhL22Hc-d"
      },
      "source": [
        "Este gráfico de barras acima mostra a distribuição de fêmeas e machos sobreviventes. O x_label mostra o sexo e o y_label mostra % de passageiros sobreviventes. Este gráfico de barras mostra que 74% dos passageiros do sexo feminino sobreviveram, enquanto apenas\n",
        "19% dos passageiros do sexo masculino sobreviveram."
      ]
    },
    {
      "cell_type": "code",
      "execution_count": null,
      "metadata": {
        "id": "a8RToH52Hc-d"
      },
      "outputs": [],
      "source": [
        "sns.set(style='darkgrid')\n",
        "plt.subplots(figsize = (15,8))\n",
        "ax=sns.countplot(x='Sex_male',data=train,hue='Survived',edgecolor=(0,0,0),linewidth=2)\n",
        "train.shape\n",
        "## Fixing title, xlabel and ylabel\n",
        "plt.title('Passenger distribution of survived vs not-survived',fontsize=25)\n",
        "plt.xlabel('Gender',fontsize=15)\n",
        "plt.ylabel(\"# of Passenger Survived\", fontsize = 15)\n",
        "labels = ['Female', 'Male']\n",
        "#Fixing xticks.\n",
        "plt.xticks(sorted(train.Survived.unique()),labels)\n",
        "## Fixing legends\n",
        "leg = ax.get_legend()\n",
        "leg.set_title('Survived')\n",
        "legs=leg.texts\n",
        "legs[0].set_text('No')\n",
        "legs[1].set_text('Yes')\n"
      ]
    },
    {
      "cell_type": "markdown",
      "metadata": {
        "id": "jTlTqqljHc-d"
      },
      "source": [
        "Este gráfico de contagem mostra a distribuição real de passageiros masculinos e femininos que sobreviveram e não sobreviveram. Mostra que entre todas as fêmeas\n",
        "230 sobreviveram e\n",
        "70 não sobreviveram. Enquanto entre os passageiros do sexo masculino\n",
        "110 sobreviveram e\n",
        "480 não sobreviveram."
      ]
    },
    {
      "cell_type": "markdown",
      "metadata": {
        "id": "qd4lMG1aHc-e"
      },
      "source": [
        "**Resumo**\n",
        "- Como suspeitávamos, os passageiros do sexo feminino sobreviveram a uma taxa muito melhor do que os passageiros do sexo masculino.\n",
        "- Parece certo, já que as mulheres e as crianças eram a prioridade."
      ]
    },
    {
      "cell_type": "markdown",
      "metadata": {
        "id": "TQ0XCzmoHc-e"
      },
      "source": [
        "**Pclass e Survived**"
      ]
    },
    {
      "cell_type": "code",
      "execution_count": null,
      "metadata": {
        "id": "8IQsH6qfHc-e"
      },
      "outputs": [],
      "source": [
        "train.head(4)"
      ]
    },
    {
      "cell_type": "code",
      "execution_count": null,
      "metadata": {
        "id": "bs2JCdQ4Hc-e"
      },
      "outputs": [],
      "source": [
        "plt.subplots(figsize = (10,10))\n",
        "ax=sns.countplot(x='Pclass',hue='Survived',data=train)\n",
        "plt.title(\"Passenger Class Distribution - Survived vs Non-Survived\", fontsize = 25)\n",
        "leg=ax.get_legend()\n",
        "leg.set_title('Survival')\n",
        "legs=leg.texts\n",
        "\n",
        "legs[0].set_text('No')\n",
        "legs[1].set_text(\"yes\")"
      ]
    },
    {
      "cell_type": "markdown",
      "metadata": {
        "id": "7xP9xQAkHc-e"
      },
      "source": [
        "Portanto, parece claramente que, a sobrevivência das pessoas pertencentes à 3ª classe é muito menor.\n",
        "Parece...\n",
        "- 63% dos passageiros de primeira classe sobreviveram a uma tragédia titânica, enquanto\n",
        "- 48% de segunda classe e\n",
        "- apenas 24% dos passageiros da terceira classe sobreviveram."
      ]
    },
    {
      "cell_type": "code",
      "execution_count": null,
      "metadata": {
        "id": "ZiG0fbdpHc-f"
      },
      "outputs": [],
      "source": [
        "plt.subplots(figsize=(10,8))\n",
        "sns.kdeplot(train.loc[(train['Survived'] == 0),'Pclass'],shade=True,color='r',label='Not Survived')\n",
        "ax=sns.kdeplot(train.loc[(train['Survived'] == 1),'Pclass'],shade=True,color='b',label='Survived' )\n",
        "\n",
        "labels = ['First', 'Second', 'Third']\n",
        "plt.xticks(sorted(train.Pclass.unique()),labels)"
      ]
    },
    {
      "cell_type": "markdown",
      "metadata": {
        "id": "oPNef71BHc-f"
      },
      "source": [
        "Este gráfico kde é bastante auto-explicativo com todos os rótulos e cores. Algo que notei e que alguns leitores podem achar questionável é isso no enredo; os passageiros de terceira classe sobreviveram a mais de passageiros de segunda classe. É verdade, pois havia muito mais passageiros de terceira classe do que de primeira e segunda."
      ]
    },
    {
      "cell_type": "markdown",
      "metadata": {
        "id": "cZQuVkXuHc-f"
      },
      "source": [
        "**Resumo**\n",
        "\n",
        "O passageiro da primeira classe teve vantagem durante a tragédia do que os passageiros da segunda e terceira classe. Você provavelmente pode concordar comigo mais sobre isso, quando olhamos para a distribuição de passagens e coluna sobreviveu."
      ]
    },
    {
      "cell_type": "markdown",
      "metadata": {
        "id": "6y4LPI4yHc-f"
      },
      "source": [
        "**Fare e Survived**"
      ]
    },
    {
      "cell_type": "code",
      "execution_count": null,
      "metadata": {
        "id": "4VTuZbECHc-f"
      },
      "outputs": [],
      "source": [
        "plt.subplots(figsize=(15,10))\n",
        "\n",
        "ax=sns.kdeplot(train.loc[(train['Survived'] == 0),'Fare'],color='r',shade=True,label='Not Survived')\n",
        "ax=sns.kdeplot(train.loc[(train['Survived'] == 1),'Fare'],color='b',shade=True,label='Survived' )\n",
        "plt.title('Fare Distribution Survived vs Non Survived',fontsize=25)\n",
        "plt.ylabel('Frequency of Passenger Survived',fontsize=20)\n",
        "plt.xlabel('Fare',fontsize=20)"
      ]
    },
    {
      "cell_type": "markdown",
      "metadata": {
        "id": "xrO6odXWHc-f"
      },
      "source": [
        "**Age e Survived**"
      ]
    },
    {
      "cell_type": "code",
      "execution_count": null,
      "metadata": {
        "id": "TyN-SVUJHc-g"
      },
      "outputs": [],
      "source": [
        "fig,axs=plt.subplots(figsize=(10,8))\n",
        "sns.set_style(style='darkgrid')\n",
        "sns.kdeplot(train.loc[(train['Survived']==0),'Age2'],color='r',shade=True,label='Not Survived')\n",
        "sns.kdeplot(train.loc[(train['Survived']==1),'Age2'],color='b',shade=True,label='Survived')\n"
      ]
    },
    {
      "cell_type": "markdown",
      "metadata": {
        "id": "PRcYuvhhHc-g"
      },
      "source": [
        "Não há nada fora do comum neste enredo, exceto a parte esquerda da distribuição. Mostra que\n",
        "\n",
        "crianças e bebês eram a prioridade."
      ]
    },
    {
      "cell_type": "markdown",
      "metadata": {
        "id": "3tQqMHktHc-g"
      },
      "source": [
        "**Modelando os dados**"
      ]
    },
    {
      "cell_type": "markdown",
      "metadata": {
        "id": "-e_dpswnHc-g"
      },
      "source": [
        "Vamos treinar os dados com os seguintes modelos:\n",
        "- Logistic Regression\n",
        "- Gaussian Naive Bayes\n",
        "- Support Vector Machines\n",
        "- Decision Tree Classifier\n",
        "- K-Nearest Neighbors(KNN)\n"
      ]
    },
    {
      "cell_type": "code",
      "execution_count": null,
      "metadata": {
        "collapsed": true,
        "id": "ov-aVXTVHc-g"
      },
      "outputs": [],
      "source": [
        "X=train.drop('Survived',axis=1)\n",
        "y=train['Survived'].astype(int)\n"
      ]
    },
    {
      "cell_type": "markdown",
      "metadata": {
        "collapsed": true,
        "id": "1YQdMd1tHc-g"
      },
      "source": [
        "Comparação do Classificador \n",
        "\n",
        "Por Comparação do Classificador, escolhemos qual modelo é o melhor para os dados fornecidos."
      ]
    },
    {
      "cell_type": "code",
      "execution_count": null,
      "metadata": {
        "collapsed": true,
        "scrolled": true,
        "id": "_E2VpQQQHc-h"
      },
      "outputs": [],
      "source": [
        "import matplotlib.pyplot as plt\n",
        "import seaborn as sns\n",
        "from sklearn.model_selection import StratifiedShuffleSplit\n",
        "from sklearn.metrics import accuracy_score, log_loss\n",
        "from sklearn.neighbors import KNeighborsClassifier\n",
        "from sklearn.svm import SVC\n",
        "from sklearn.tree import DecisionTreeClassifier\n",
        "from sklearn.ensemble import RandomForestClassifier,AdaBoostClassifier,GradientBoostingClassifier\n",
        "from sklearn.naive_bayes import GaussianNB\n",
        "from sklearn.linear_model import LogisticRegression\n",
        "from sklearn.discriminant_analysis import LinearDiscriminantAnalysis, QuadraticDiscriminantAnalysis \n",
        "from xgboost import XGBClassifier\n",
        "\n",
        "classifiers = [\n",
        "    KNeighborsClassifier(3),\n",
        "    SVC(probability=True),\n",
        "    DecisionTreeClassifier(),\n",
        "    XGBClassifier(),\n",
        "    RandomForestClassifier(n_estimators=100, max_features=3),\n",
        "    AdaBoostClassifier(),\n",
        "    GradientBoostingClassifier(),\n",
        "    GaussianNB(),\n",
        "    LinearDiscriminantAnalysis(),\n",
        "    QuadraticDiscriminantAnalysis(),\n",
        "    LogisticRegression()]\n",
        "    \n",
        "\n",
        "\n",
        "log_cols = [\"Classifier\", \"Accuracy\"]\n",
        "log= pd.DataFrame(columns=log_cols)\n"
      ]
    },
    {
      "cell_type": "code",
      "execution_count": null,
      "metadata": {
        "collapsed": true,
        "id": "ltWp_4ByHc-h"
      },
      "outputs": [],
      "source": [
        "from sklearn.metrics import accuracy_score\n",
        "from sklearn.model_selection import train_test_split\n",
        "\n",
        "sss = StratifiedShuffleSplit(n_splits=10, test_size=0.3, random_state=0)\n",
        "acc_dict = {}\n",
        "\n",
        "for train_index, test_index in sss.split(X, y):\n",
        "    \n",
        "    X_train, X_test = X.iloc[train_index], X.iloc[test_index]\n",
        "    y_train, y_test = y.iloc[train_index], y.iloc[test_index]\n",
        "    \n",
        "    for clf in classifiers:\n",
        "        name = clf.__class__.__name__\n",
        "    \n",
        "        clf.fit(X_train,y_train)\n",
        "        predict=clf.predict(X_test)\n",
        "        acc=accuracy_score(y_test,predict)\n",
        "        if name in acc_dict:\n",
        "            acc_dict[name]+=acc\n",
        "        else:\n",
        "            acc_dict[name]=acc"
      ]
    },
    {
      "cell_type": "code",
      "execution_count": null,
      "metadata": {
        "id": "Y_UA4LiMHc-h"
      },
      "outputs": [],
      "source": [
        "log['Classifier']=acc_dict.keys()\n",
        "log['Accuracy']=acc_dict.values()\n",
        "log.set_index([[0,1,2,3,4,5,6,7,8,9,10]])\n",
        "%matplotlib inline\n",
        "sns.set_color_codes(\"muted\")\n",
        "ax=plt.subplots(figsize=(10,8))\n",
        "ax=sns.barplot(y='Classifier',x='Accuracy',data=log,color='b')\n",
        "ax.set_xlabel('Accuracy',fontsize=20)\n",
        "plt.ylabel('Classifier',fontsize=20)\n",
        "plt.grid(color='r', linestyle='-', linewidth=0.5)\n",
        "plt.title('Classifier Accuracy',fontsize=20)\n"
      ]
    },
    {
      "cell_type": "markdown",
      "metadata": {
        "collapsed": true,
        "id": "eUbf4RWPHc-h"
      },
      "source": [
        "A partir do gráfico de barras acima, podemos ver claramente que a precisão do classificador SVC é a melhor de todos os outros classificadores.\n",
        "\n",
        "Vamos aplicar isso aos nossos dados de teste."
      ]
    },
    {
      "cell_type": "markdown",
      "metadata": {
        "id": "tcP-YlZpHc-i"
      },
      "source": [
        "h2 Previsão /h2\n",
        "\n",
        "Vamos usar o classificador SVC para prever nossos dados."
      ]
    },
    {
      "cell_type": "code",
      "execution_count": null,
      "metadata": {
        "id": "Pkjiq-ERHc-i"
      },
      "outputs": [],
      "source": [
        "train.head()"
      ]
    },
    {
      "cell_type": "code",
      "execution_count": null,
      "metadata": {
        "id": "V4xugLT8Hc-i"
      },
      "outputs": [],
      "source": [
        "classifier=SVC()\n",
        "xtrain=train.iloc[:,1:]\n",
        "ytrain=train.iloc[:,:1]\n",
        "ytrain=ytrain.values.ravel()\n",
        "classifier.fit(xtrain,ytrain)\n",
        "#we need to convert the test data "
      ]
    },
    {
      "cell_type": "code",
      "execution_count": null,
      "metadata": {
        "collapsed": true,
        "id": "1lrfKUnpHc-i"
      },
      "outputs": [],
      "source": [
        "testIm=Imputer(missing_values='NaN',strategy='most_frequent',axis=1)\n",
        "Age1=testIm.fit_transform(test.Age.values.reshape(1,-1))\n",
        "Fare2=testIm.fit_transform(test.Fare.values.reshape(1,-1))\n",
        "test.drop(['Name','Cabin','Age','Ticket','Fare'],axis=1,inplace=True)\n",
        "test['Age1']=Age1.T\n",
        "test['Fare2']=Fare2.T\n",
        "test.set_index('PassengerId',inplace=True)\n",
        "#test[test.Fare.isnull()]#this will tell us which row have null so we can drop that particular row.\n",
        "#test.drop([1044],axis=0,inplace=True)#drop the row which NaN .\n",
        "#test.isnull().sum()"
      ]
    },
    {
      "cell_type": "code",
      "execution_count": null,
      "metadata": {
        "collapsed": true,
        "id": "2j4IXjw3Hc-i"
      },
      "outputs": [],
      "source": [
        "## get dummy variables for Column sex and embarked since they are categorical value.\n",
        "test = pd.get_dummies(test, columns=[\"Sex\"], drop_first=True)\n",
        "test = pd.get_dummies(test, columns=[\"Embarked\"],drop_first=True)\n",
        "\n",
        "\n",
        "#Mapping the data.\n",
        "test['Fare2'] = test['Fare2'].astype(int)\n",
        "test.loc[test.Fare2<=7.91,'Fare2']=0\n",
        "test.loc[(test.Fare2>7.91) &(test.Fare2<=14.454),'Fare2']=1\n",
        "test.loc[(test.Fare2>14.454)&(test.Fare2<=31),'Fare2']=2\n",
        "test.loc[(test.Fare2>31),'Fare2']=3\n",
        "\n",
        "test['Age1']=test['Age1'].astype(int)\n",
        "test.loc[ test['Age1'] <= 16, 'Age1']= 0\n",
        "test.loc[(test['Age1'] > 16) & (test['Age1'] <= 32), 'Age1'] = 1\n",
        "test.loc[(test['Age1'] > 32) & (test['Age1'] <= 48), 'Age1'] = 2\n",
        "test.loc[(test['Age1'] > 48) & (test['Age1'] <= 64), 'Age1'] = 3\n",
        "test.loc[test['Age1'] > 64, 'Age1'] = 4"
      ]
    },
    {
      "cell_type": "markdown",
      "metadata": {
        "id": "_eMKrxA-Hc-j"
      },
      "source": [
        "<h2> Resultado </h2>\n",
        "\n",
        "O resultado final é"
      ]
    },
    {
      "cell_type": "code",
      "execution_count": null,
      "metadata": {
        "id": "A3XKD1UyHc-j"
      },
      "outputs": [],
      "source": [
        "Result=classifier.predict(test)\n",
        "print(Result)\n",
        "print(len(Result))"
      ]
    }
  ],
  "metadata": {
    "kernelspec": {
      "display_name": "Python 3",
      "language": "python",
      "name": "python3"
    },
    "language_info": {
      "codemirror_mode": {
        "name": "ipython",
        "version": 3
      },
      "file_extension": ".py",
      "mimetype": "text/x-python",
      "name": "python",
      "nbconvert_exporter": "python",
      "pygments_lexer": "ipython3",
      "version": "3.6.2"
    },
    "colab": {
      "provenance": [],
      "collapsed_sections": []
    }
  },
  "nbformat": 4,
  "nbformat_minor": 0
}